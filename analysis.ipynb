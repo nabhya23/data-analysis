{
 "cells": [
  {
   "cell_type": "code",
   "execution_count": 1,
   "metadata": {},
   "outputs": [
    {
     "name": "stdout",
     "output_type": "stream",
     "text": [
      "Requirement already satisfied: pandas in c:\\users\\naveen  kapoor\\appdata\\roaming\\python\\python312\\site-packages (2.2.2)\n",
      "Requirement already satisfied: numpy>=1.26.0 in c:\\users\\naveen  kapoor\\appdata\\roaming\\python\\python312\\site-packages (from pandas) (1.26.4)\n",
      "Requirement already satisfied: python-dateutil>=2.8.2 in c:\\users\\naveen  kapoor\\appdata\\roaming\\python\\python312\\site-packages (from pandas) (2.9.0.post0)\n",
      "Requirement already satisfied: pytz>=2020.1 in c:\\users\\naveen  kapoor\\appdata\\roaming\\python\\python312\\site-packages (from pandas) (2024.1)\n",
      "Requirement already satisfied: tzdata>=2022.7 in c:\\users\\naveen  kapoor\\appdata\\roaming\\python\\python312\\site-packages (from pandas) (2024.1)\n",
      "Requirement already satisfied: six>=1.5 in c:\\users\\naveen  kapoor\\appdata\\roaming\\python\\python312\\site-packages (from python-dateutil>=2.8.2->pandas) (1.16.0)\n"
     ]
    }
   ],
   "source": [
    "!pip install pandas"
   ]
  },
  {
   "cell_type": "code",
   "execution_count": 2,
   "metadata": {},
   "outputs": [],
   "source": [
    "import pandas as pd\n",
    "purchase_behaviour = pd.read_csv('purchase_behaviour.csv')\n",
    "transaction_data = pd.read_csv('transaction_data.csv')"
   ]
  },
  {
   "cell_type": "code",
   "execution_count": 3,
   "metadata": {},
   "outputs": [
    {
     "name": "stdout",
     "output_type": "stream",
     "text": [
      "    PROD_NBR                                 PROD_NAME  TOT_SALES\n",
      "3          4          Dorito Corn Chp     Supreme 380g    40352.0\n",
      "13        14    Smiths Crnkle Chip  Orgnl Big Bag 380g    36367.6\n",
      "15        16  Smiths Crinkle Chips Salt & Vinegar 330g    34804.2\n"
     ]
    }
   ],
   "source": [
    "#identify top3 most profitable products\n",
    "top_profitable_products=(transaction_data.groupby(['PROD_NBR','PROD_NAME'])['TOT_SALES'].sum().reset_index().sort_values(by=\"TOT_SALES\", ascending=False))\n",
    "top_3_profitable_products = top_profitable_products.head(3)\n",
    "print(top_3_profitable_products)"
   ]
  },
  {
   "cell_type": "code",
   "execution_count": 5,
   "metadata": {},
   "outputs": [
    {
     "name": "stdout",
     "output_type": "stream",
     "text": [
      "                LIFESTAGE PREMIUM_CUSTOMER  TOT_SALES\n",
      "6          OLDER FAMILIES           Budget  168363.25\n",
      "19  YOUNG SINGLES/COUPLES       Mainstream  157621.60\n",
      "13               RETIREES       Mainstream  155677.05\n"
     ]
    }
   ],
   "source": [
    "#identify most loyal customers\n",
    "customer_transactions = transaction_data.merge(purchase_behaviour,on='LYLTY_CARD_NBR',how='left')\n",
    "loyal_customers = (\n",
    "    customer_transactions.groupby([\"LIFESTAGE\", \"PREMIUM_CUSTOMER\"])[\"TOT_SALES\"]\n",
    "    .sum()\n",
    "    .reset_index()\n",
    "    .sort_values(by=\"TOT_SALES\", ascending=False)\n",
    ")\n",
    "print(loyal_customers.head(3))"
   ]
  },
  {
   "cell_type": "markdown",
   "metadata": {},
   "source": [
    "Now we will be analyzing characteristics of our loyal customers:\n",
    "Loyal customers are:\n",
    "1.Older Families (Budget buyers) \n",
    "2.Young Singles/Couples (Mainstream buyers) \n",
    "3.Retirees (Mainstream buyers) "
   ]
  },
  {
   "cell_type": "code",
   "execution_count": 7,
   "metadata": {},
   "outputs": [
    {
     "name": "stdout",
     "output_type": "stream",
     "text": [
      "Total Spending by Older Families : $168363.25\n"
     ]
    }
   ],
   "source": [
    "#Budget For Older Families\n",
    "# Filter data for 'Older Families' and 'Budget Buyers'\n",
    "older_families_budget = customer_transactions[\n",
    "    (customer_transactions[\"LIFESTAGE\"] == \"OLDER FAMILIES\") &\n",
    "    (customer_transactions[\"PREMIUM_CUSTOMER\"] == \"Budget\")\n",
    "]\n",
    "\n",
    "# Total spending by Older Families (Budget Buyers)\n",
    "total_spending = older_families_budget[\"TOT_SALES\"].sum()\n",
    "print(f\"Total Spending by Older Families : ${total_spending:.2f}\")\n"
   ]
  },
  {
   "cell_type": "code",
   "execution_count": 9,
   "metadata": {},
   "outputs": [
    {
     "name": "stdout",
     "output_type": "stream",
     "text": [
      "                                    PROD_NAME  PROD_QTY\n",
      "33     Kettle Mozzarella   Basil & Pesto 175g       561\n",
      "77   Smiths Crinkle Chips Salt & Vinegar 330g       559\n",
      "15    Doritos Corn Chips  Cheese Supreme 170g       558\n",
      "95       Thins Potato Chips  Hot & Spicy 175g       549\n",
      "100           Twisties Cheese     Burger 250g       544\n"
     ]
    }
   ],
   "source": [
    "# Identify the most purchased products by Older Families (Budget Buyers)\n",
    "top_products = (\n",
    "    older_families_budget.groupby(\"PROD_NAME\")[\"PROD_QTY\"]\n",
    "    .sum()\n",
    "    .reset_index()\n",
    "    .sort_values(by=\"PROD_QTY\", ascending=False)\n",
    ")\n",
    "\n",
    "# Display top 5 products\n",
    "print(top_products.head())\n"
   ]
  },
  {
   "cell_type": "markdown",
   "metadata": {},
   "source": [
    "The analysis confirms that Older Families (Budget Buyers) prefer medium-to-large pack sizes (175g, 250g, 330g), indicating a tendency to buy in bulk for household consumption rather than individual snacking. Their high spending suggests they are cost-conscious but prioritize value-for-money options, as larger packs often provide better value per gram and their budget of $168363.25 confirms that  they are among the highest spenders."
   ]
  },
  {
   "cell_type": "code",
   "execution_count": 11,
   "metadata": {},
   "outputs": [
    {
     "name": "stdout",
     "output_type": "stream",
     "text": [
      "Total Spending: $157621.60\n"
     ]
    }
   ],
   "source": [
    "#Budget for young singles /couples\n",
    "# Filter transaction data for Young Singles/Couples (Mainstream Buyers)\n",
    "young_singles_mainstream = customer_transactions[\n",
    "    (customer_transactions[\"LIFESTAGE\"] == \"YOUNG SINGLES/COUPLES\") &\n",
    "    (customer_transactions[\"PREMIUM_CUSTOMER\"] == \"Mainstream\")\n",
    "]\n",
    "\n",
    "# Total spending by Young Singles/Couples (Mainstream Buyers)\n",
    "total_spending = young_singles_mainstream[\"TOT_SALES\"].sum()\n",
    "print(f\"Total Spending: ${total_spending:.2f}\")\n",
    "\n"
   ]
  },
  {
   "cell_type": "code",
   "execution_count": 12,
   "metadata": {},
   "outputs": [
    {
     "name": "stdout",
     "output_type": "stream",
     "text": [
      "                                   PROD_NAME  PROD_QTY\n",
      "33    Kettle Mozzarella   Basil & Pesto 175g       626\n",
      "15   Doritos Corn Chips  Cheese Supreme 170g       621\n",
      "98             Tostitos Splash Of  Lime 175g       619\n",
      "42  Kettle Tortilla ChpsHny&Jlpno Chili 150g       604\n",
      "86    Smiths Crnkle Chip  Orgnl Big Bag 380g       596\n"
     ]
    }
   ],
   "source": [
    "# Identify most purchased products\n",
    "top_products = (\n",
    "    young_singles_mainstream.groupby(\"PROD_NAME\")[\"PROD_QTY\"]\n",
    "    .sum()\n",
    "    .reset_index()\n",
    "    .sort_values(by=\"PROD_QTY\", ascending=False)\n",
    ")\n",
    "\n",
    "print(top_products.head())  # Display top 5 purchased products\n"
   ]
  },
  {
   "cell_type": "markdown",
   "metadata": {},
   "source": [
    "The most purchased products by Young Singles/Couples (Mainstream Buyers) provide strong evidence that they prefer premium snack items for social gatherings, convenience, or indulgence"
   ]
  },
  {
   "cell_type": "code",
   "execution_count": 30,
   "metadata": {},
   "outputs": [
    {
     "name": "stdout",
     "output_type": "stream",
     "text": [
      "                 LIFESTAGE PREMIUM_CUSTOMER  TOTAL_PURCHASES\n",
      "6           OLDER FAMILIES           Budget            23160\n",
      "13                RETIREES       Mainstream            21466\n",
      "19   YOUNG SINGLES/COUPLES       Mainstream            20854\n",
      "15          YOUNG FAMILIES           Budget            19122\n",
      "9    OLDER SINGLES/COUPLES           Budget            18407\n",
      "10   OLDER SINGLES/COUPLES       Mainstream            18318\n",
      "11   OLDER SINGLES/COUPLES          Premium            17754\n",
      "12                RETIREES           Budget            15201\n",
      "7           OLDER FAMILIES       Mainstream            14244\n",
      "14                RETIREES          Premium            13096\n",
      "16          YOUNG FAMILIES       Mainstream            12907\n",
      "1   MIDAGE SINGLES/COUPLES       Mainstream            11874\n",
      "17          YOUNG FAMILIES          Premium            11563\n",
      "8           OLDER FAMILIES          Premium            11192\n",
      "18   YOUNG SINGLES/COUPLES           Budget             9242\n",
      "2   MIDAGE SINGLES/COUPLES          Premium             8216\n",
      "20   YOUNG SINGLES/COUPLES          Premium             6281\n",
      "0   MIDAGE SINGLES/COUPLES           Budget             5020\n",
      "3             NEW FAMILIES           Budget             3005\n",
      "4             NEW FAMILIES       Mainstream             2325\n",
      "5             NEW FAMILIES          Premium             1589\n"
     ]
    }
   ],
   "source": [
    "# Group by LIFESTAGE and PREMIUM_CUSTOMER and count the number of purchases\n",
    "total_purchases_by_segment = customer_transactions.groupby([\"LIFESTAGE\", \"PREMIUM_CUSTOMER\"])[\"LYLTY_CARD_NBR\"].count().reset_index()\n",
    "\n",
    "# Rename column for clarity\n",
    "total_purchases_by_segment = total_purchases_by_segment.rename(columns={\"LYLTY_CARD_NBR\": \"TOTAL_PURCHASES\"})\n",
    "\n",
    "# Sort by total purchases in descending order\n",
    "total_purchases_by_segment = total_purchases_by_segment.sort_values(by=\"TOTAL_PURCHASES\", ascending=False)\n",
    "\n",
    "# Display the result\n",
    "print(total_purchases_by_segment)\n"
   ]
  },
  {
   "cell_type": "markdown",
   "metadata": {},
   "source": [
    "Mainstream Retirees rank 2nd in total purchases with 21,466 transactions, just behind Older Families (Budget) at 23,160. This suggests that retirees in the mainstream segment shop frequently, likely due to More Free Time for Shopping: Retired individuals have more flexibility in their schedules, allowing them to shop frequently."
   ]
  },
  {
   "cell_type": "code",
   "execution_count": 27,
   "metadata": {},
   "outputs": [
    {
     "name": "stdout",
     "output_type": "stream",
     "text": [
      "Total spend by Mainstream Retirees: $155677.05\n"
     ]
    }
   ],
   "source": [
    "total_spend = mainstream_retirees[\"TOT_SALES\"].sum()\n",
    "print(f\"Total spend by Mainstream Retirees: ${total_spend}\")"
   ]
  },
  {
   "cell_type": "code",
   "execution_count": 13,
   "metadata": {},
   "outputs": [
    {
     "name": "stdout",
     "output_type": "stream",
     "text": [
      "Requirement already satisfied: matplotlib in c:\\users\\naveen  kapoor\\appdata\\roaming\\python\\python312\\site-packages (3.9.0)\n",
      "Requirement already satisfied: contourpy>=1.0.1 in c:\\users\\naveen  kapoor\\appdata\\roaming\\python\\python312\\site-packages (from matplotlib) (1.2.1)\n",
      "Requirement already satisfied: cycler>=0.10 in c:\\users\\naveen  kapoor\\appdata\\roaming\\python\\python312\\site-packages (from matplotlib) (0.12.1)\n",
      "Requirement already satisfied: fonttools>=4.22.0 in c:\\users\\naveen  kapoor\\appdata\\roaming\\python\\python312\\site-packages (from matplotlib) (4.53.0)\n",
      "Requirement already satisfied: kiwisolver>=1.3.1 in c:\\users\\naveen  kapoor\\appdata\\roaming\\python\\python312\\site-packages (from matplotlib) (1.4.5)\n",
      "Requirement already satisfied: numpy>=1.23 in c:\\users\\naveen  kapoor\\appdata\\roaming\\python\\python312\\site-packages (from matplotlib) (1.26.4)\n",
      "Requirement already satisfied: packaging>=20.0 in c:\\users\\naveen  kapoor\\appdata\\roaming\\python\\python312\\site-packages (from matplotlib) (24.1)\n",
      "Requirement already satisfied: pillow>=8 in c:\\users\\naveen  kapoor\\appdata\\roaming\\python\\python312\\site-packages (from matplotlib) (10.3.0)\n",
      "Requirement already satisfied: pyparsing>=2.3.1 in c:\\users\\naveen  kapoor\\appdata\\roaming\\python\\python312\\site-packages (from matplotlib) (3.1.2)\n",
      "Requirement already satisfied: python-dateutil>=2.7 in c:\\users\\naveen  kapoor\\appdata\\roaming\\python\\python312\\site-packages (from matplotlib) (2.9.0.post0)\n",
      "Requirement already satisfied: six>=1.5 in c:\\users\\naveen  kapoor\\appdata\\roaming\\python\\python312\\site-packages (from python-dateutil>=2.7->matplotlib) (1.16.0)\n",
      "Requirement already satisfied: seaborn in c:\\users\\naveen  kapoor\\anaconda3\\lib\\site-packages (0.13.2)\n",
      "Requirement already satisfied: numpy!=1.24.0,>=1.20 in c:\\users\\naveen  kapoor\\appdata\\roaming\\python\\python312\\site-packages (from seaborn) (1.26.4)\n",
      "Requirement already satisfied: pandas>=1.2 in c:\\users\\naveen  kapoor\\appdata\\roaming\\python\\python312\\site-packages (from seaborn) (2.2.2)\n",
      "Requirement already satisfied: matplotlib!=3.6.1,>=3.4 in c:\\users\\naveen  kapoor\\appdata\\roaming\\python\\python312\\site-packages (from seaborn) (3.9.0)\n",
      "Requirement already satisfied: contourpy>=1.0.1 in c:\\users\\naveen  kapoor\\appdata\\roaming\\python\\python312\\site-packages (from matplotlib!=3.6.1,>=3.4->seaborn) (1.2.1)\n",
      "Requirement already satisfied: cycler>=0.10 in c:\\users\\naveen  kapoor\\appdata\\roaming\\python\\python312\\site-packages (from matplotlib!=3.6.1,>=3.4->seaborn) (0.12.1)\n",
      "Requirement already satisfied: fonttools>=4.22.0 in c:\\users\\naveen  kapoor\\appdata\\roaming\\python\\python312\\site-packages (from matplotlib!=3.6.1,>=3.4->seaborn) (4.53.0)\n",
      "Requirement already satisfied: kiwisolver>=1.3.1 in c:\\users\\naveen  kapoor\\appdata\\roaming\\python\\python312\\site-packages (from matplotlib!=3.6.1,>=3.4->seaborn) (1.4.5)\n",
      "Requirement already satisfied: packaging>=20.0 in c:\\users\\naveen  kapoor\\appdata\\roaming\\python\\python312\\site-packages (from matplotlib!=3.6.1,>=3.4->seaborn) (24.1)\n",
      "Requirement already satisfied: pillow>=8 in c:\\users\\naveen  kapoor\\appdata\\roaming\\python\\python312\\site-packages (from matplotlib!=3.6.1,>=3.4->seaborn) (10.3.0)\n",
      "Requirement already satisfied: pyparsing>=2.3.1 in c:\\users\\naveen  kapoor\\appdata\\roaming\\python\\python312\\site-packages (from matplotlib!=3.6.1,>=3.4->seaborn) (3.1.2)\n",
      "Requirement already satisfied: python-dateutil>=2.7 in c:\\users\\naveen  kapoor\\appdata\\roaming\\python\\python312\\site-packages (from matplotlib!=3.6.1,>=3.4->seaborn) (2.9.0.post0)\n",
      "Requirement already satisfied: pytz>=2020.1 in c:\\users\\naveen  kapoor\\appdata\\roaming\\python\\python312\\site-packages (from pandas>=1.2->seaborn) (2024.1)\n",
      "Requirement already satisfied: tzdata>=2022.7 in c:\\users\\naveen  kapoor\\appdata\\roaming\\python\\python312\\site-packages (from pandas>=1.2->seaborn) (2024.1)\n",
      "Requirement already satisfied: six>=1.5 in c:\\users\\naveen  kapoor\\appdata\\roaming\\python\\python312\\site-packages (from python-dateutil>=2.7->matplotlib!=3.6.1,>=3.4->seaborn) (1.16.0)\n"
     ]
    }
   ],
   "source": [
    "!pip install matplotlib\n"
   ]
  },
  {
   "cell_type": "markdown",
   "metadata": {},
   "source": [
    "Analysis of Purchase Frequency Across Customer Segments"
   ]
  },
  {
   "cell_type": "code",
   "execution_count": 35,
   "metadata": {},
   "outputs": [
    {
     "data": {
      "image/png": "[encoded data removed]",
      "text/plain": [
       "<Figure size 1000x500 with 1 Axes>"
      ]
     },
     "metadata": {},
     "output_type": "display_data"
    }
   ],
   "source": [
    "import matplotlib.pyplot as plt\n",
    "\n",
    "# Group by LIFESTAGE and PREMIUM_CUSTOMER and count purchases\n",
    "purchase_freq = customer_transactions.groupby([\"LIFESTAGE\", \"PREMIUM_CUSTOMER\"])[\"LYLTY_CARD_NBR\"].count().unstack()\n",
    "\n",
    "# Plot bar chart\n",
    "purchase_freq.plot(kind=\"bar\", figsize=(10, 5))\n",
    "\n",
    "# Labels & formatting\n",
    "plt.xlabel(\"Lifestage\")\n",
    "plt.ylabel(\"Purchase Frequency\")\n",
    "plt.title(\"Purchase Frequency Across Customer Segments\")\n",
    "plt.legend(title=\"Premium Customer\")\n",
    "plt.show()\n"
   ]
  },
  {
   "cell_type": "code",
   "execution_count": 34,
   "metadata": {},
   "outputs": [
    {
     "name": "stdout",
     "output_type": "stream",
     "text": [
      "Most Loyal Customer Segment:\n",
      "                LIFESTAGE PREMIUM_CUSTOMER  LYLTY_CARD_NBR\n",
      "6          OLDER FAMILIES           Budget           23160\n",
      "13               RETIREES       Mainstream           21466\n",
      "19  YOUNG SINGLES/COUPLES       Mainstream           20854\n",
      "15         YOUNG FAMILIES           Budget           19122\n",
      "9   OLDER SINGLES/COUPLES           Budget           18407\n"
     ]
    }
   ],
   "source": [
    "import pandas as pd\n",
    "\n",
    "# Group by LIFESTAGE and PREMIUM_CUSTOMER, then count the number of transactions\n",
    "most_loyal = customer_transactions.groupby([\"LIFESTAGE\", \"PREMIUM_CUSTOMER\"])[\"LYLTY_CARD_NBR\"].count().reset_index()\n",
    "\n",
    "# Sort in descending order to find the segment with the highest purchase frequency\n",
    "most_loyal = most_loyal.sort_values(by=\"LYLTY_CARD_NBR\", ascending=False)\n",
    "\n",
    "# Display the most loyal customer segment\n",
    "print(\"Most Loyal Customer Segment:\")\n",
    "print(most_loyal.head())  # Display the top segment\n"
   ]
  },
  {
   "cell_type": "markdown",
   "metadata": {},
   "source": [
    "This  means that customers who make frequent purchases also tend to spend the most, reinforcing the idea that increasing purchase frequency directly contributes to higher revenue."
   ]
  },
  {
   "cell_type": "code",
   "execution_count": null,
   "metadata": {},
   "outputs": [],
   "source": []
  }
 ],
 "metadata": {
  "kernelspec": {
   "display_name": "Python 3",
   "language": "python",
   "name": "python3"
  },
  "language_info": {
   "codemirror_mode": {
    "name": "ipython",
    "version": 3
   },
   "file_extension": ".py",
   "mimetype": "text/x-python",
   "name": "python",
   "nbconvert_exporter": "python",
   "pygments_lexer": "ipython3",
   "version": "3.12.4"
  }
 },
 "nbformat": 4,
 "nbformat_minor": 2
}
